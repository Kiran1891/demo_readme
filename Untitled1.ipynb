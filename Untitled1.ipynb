{
 "cells": [
  {
   "cell_type": "markdown",
   "id": "f9342111",
   "metadata": {},
   "source": [
    "# My Jupyter Notebook on IBM Watson Studio"
   ]
  },
  {
   "cell_type": "markdown",
   "id": "55c266ea",
   "metadata": {},
   "source": [
    "**Kiran Shinde**  \n",
    "I am a student."
   ]
  },
  {
   "cell_type": "markdown",
   "id": "74ac203b",
   "metadata": {},
   "source": [
    "*I am interested in Data Science because I would love to contribute towards affordable and quality hospitality centres in the future.*"
   ]
  },
  {
   "cell_type": "markdown",
   "id": "b0622d9d",
   "metadata": {},
   "source": [
    "### Now, Im going to display a statement \"Hello world\"."
   ]
  },
  {
   "cell_type": "code",
   "execution_count": 7,
   "id": "aaf28c09",
   "metadata": {},
   "outputs": [
    {
     "name": "stdout",
     "output_type": "stream",
     "text": [
      "Hello world\n"
     ]
    }
   ],
   "source": [
    "print (\"Hello world\")"
   ]
  },
  {
   "cell_type": "markdown",
   "id": "406a2d02",
   "metadata": {},
   "source": [
    "~~list of groceries~~\n",
    "1. milk  \n",
    "     1. soy milk\n",
    "     2. cow milk  \n",
    "2. rice\n",
    "3. grains  \n",
    "\n",
    "- ketchup  \n",
    "- curd\n",
    "        COw milk is for sister.  \n",
    "        soy milk for gym lovers.\n"
   ]
  },
  {
   "cell_type": "code",
   "execution_count": null,
   "id": "f7b2639c",
   "metadata": {},
   "outputs": [],
   "source": []
  }
 ],
 "metadata": {
  "kernelspec": {
   "display_name": "Python 3 (ipykernel)",
   "language": "python",
   "name": "python3"
  },
  "language_info": {
   "codemirror_mode": {
    "name": "ipython",
    "version": 3
   },
   "file_extension": ".py",
   "mimetype": "text/x-python",
   "name": "python",
   "nbconvert_exporter": "python",
   "pygments_lexer": "ipython3",
   "version": "3.9.12"
  }
 },
 "nbformat": 4,
 "nbformat_minor": 5
}
